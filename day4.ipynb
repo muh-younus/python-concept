{
 "cells": [
  {
   "cell_type": "code",
   "execution_count": 6,
   "id": "f9443678",
   "metadata": {},
   "outputs": [
    {
     "name": "stdout",
     "output_type": "stream",
     "text": [
      "list: [1, 23, 21, [44, 55]] copyList: [1, 23, 21, [44, 55]]\n",
      "after modification  \n",
      "list: [1, 23, 21, [80, 55]] copyList: [1, 23, 21, [80, 55]]\n",
      "[1, 23, 21, [80, 55]]\n"
     ]
    }
   ],
   "source": [
    "list = [1,23,21,[44,55]]\n",
    "copyList = list.copy()\n",
    "print(\"list:\", list, \"copyList:\", copyList )\n",
    "copyList[3][0]=80\n",
    "print(\"after modification  \")\n",
    "print(\"list:\", list, \"copyList:\", copyList )\n",
    "print(list)\n"
   ]
  },
  {
   "cell_type": "code",
   "execution_count": 14,
   "id": "e60d9755",
   "metadata": {},
   "outputs": [
    {
     "name": "stdout",
     "output_type": "stream",
     "text": [
      "['civic', 'level', 'hyundai', 'madam']\n",
      "civic\n",
      "palindrome\n"
     ]
    }
   ],
   "source": [
    "list = ['civic','level','hyundai','madam']\n",
    "copyList = list.copy()\n",
    "print(copyList )\n",
    "str = copyList[0]\n",
    "print(str)\n",
    "\n",
    "if(str[0] == str[len(str)-1]):\n",
    "    print(\"palindrome\")\n",
    "else:\n",
    "    print(\"not palindrome\")"
   ]
  },
  {
   "cell_type": "code",
   "execution_count": 22,
   "id": "364abbb1",
   "metadata": {},
   "outputs": [
    {
     "name": "stdout",
     "output_type": "stream",
     "text": [
      "[1, 2, 3, 2, 1]\n",
      "not palindrome\n"
     ]
    }
   ],
   "source": [
    "list = [1,2,3,2,1]\n",
    "copy = list.copy()\n",
    "reverse = copy.reverse()\n",
    "print(list)\n",
    "if(copy == reverse):\n",
    "    print(\"palindrome\")\n",
    "else:\n",
    "    print(\"not palindrome\")"
   ]
  },
  {
   "cell_type": "code",
   "execution_count": null,
   "id": "80e2d8d2",
   "metadata": {},
   "outputs": [
    {
     "name": "stdout",
     "output_type": "stream",
     "text": [
      "[100, 90, 80, 70, 60, 50, 40, 30, 20, 10]\n",
      "[100, 80, 60, 40, 20]\n",
      "[100, 70, 40, 10]\n"
     ]
    }
   ],
   "source": [
    "num = [10,20,30,40,50,60,70,80,90,100]\n",
    "\n",
    "print(num[::1])\n",
    "print(num[::-1])\n",
    "print(num[::-2])\n",
    "print(num[::-3])\n"
   ]
  }
 ],
 "metadata": {
  "kernelspec": {
   "display_name": "Python 3",
   "language": "python",
   "name": "python3"
  },
  "language_info": {
   "codemirror_mode": {
    "name": "ipython",
    "version": 3
   },
   "file_extension": ".py",
   "mimetype": "text/x-python",
   "name": "python",
   "nbconvert_exporter": "python",
   "pygments_lexer": "ipython3",
   "version": "3.13.7"
  }
 },
 "nbformat": 4,
 "nbformat_minor": 5
}
