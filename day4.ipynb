{
 "cells": [
  {
   "cell_type": "code",
   "execution_count": 6,
   "id": "f9443678",
   "metadata": {},
   "outputs": [
    {
     "name": "stdout",
     "output_type": "stream",
     "text": [
      "list: [1, 23, 21, [44, 55]] copyList: [1, 23, 21, [44, 55]]\n",
      "after modification  \n",
      "list: [1, 23, 21, [80, 55]] copyList: [1, 23, 21, [80, 55]]\n",
      "[1, 23, 21, [80, 55]]\n"
     ]
    }
   ],
   "source": [
    "list = [1,23,21,[44,55]]\n",
    "copyList = list.copy()\n",
    "print(\"list:\", list, \"copyList:\", copyList )\n",
    "copyList[3][0]=80\n",
    "print(\"after modification  \")\n",
    "print(\"list:\", list, \"copyList:\", copyList )\n",
    "print(list)\n"
   ]
  },
  {
   "cell_type": "code",
   "execution_count": 14,
   "id": "e60d9755",
   "metadata": {},
   "outputs": [
    {
     "name": "stdout",
     "output_type": "stream",
     "text": [
      "['civic', 'level', 'hyundai', 'madam']\n",
      "civic\n",
      "palindrome\n"
     ]
    }
   ],
   "source": [
    "list = ['civic','level','hyundai','madam']\n",
    "copyList = list.copy()\n",
    "print(copyList )\n",
    "str = copyList[0]\n",
    "print(str)\n",
    "\n",
    "if(str[0] == str[len(str)-1]):\n",
    "    print(\"palindrome\")\n",
    "else:\n",
    "    print(\"not palindrome\")"
   ]
  },
  {
   "cell_type": "code",
   "execution_count": 22,
   "id": "364abbb1",
   "metadata": {},
   "outputs": [
    {
     "name": "stdout",
     "output_type": "stream",
     "text": [
      "[1, 2, 3, 2, 1]\n",
      "not palindrome\n"
     ]
    }
   ],
   "source": [
    "list = [1,2,3,2,1]\n",
    "copy = list.copy()\n",
    "reverse = copy.reverse()\n",
    "print(list)\n",
    "if(copy == reverse):\n",
    "    print(\"palindrome\")\n",
    "else:\n",
    "    print(\"not palindrome\")"
   ]
  },
  {
   "cell_type": "code",
   "execution_count": 27,
   "id": "80e2d8d2",
   "metadata": {},
   "outputs": [
    {
     "name": "stdout",
     "output_type": "stream",
     "text": [
      "[10, 30, 50, 70, 90]\n",
      "[100, 90, 80, 70, 60, 50, 40, 30, 20, 10]\n",
      "[100, 80, 60, 40, 20]\n",
      "[100, 70, 40, 10]\n"
     ]
    }
   ],
   "source": [
    "num = [10,20,30,40,50,60,70,80,90,100]\n",
    "\n",
    "print(num[::2])\n",
    "print(num[::-1])\n",
    "print(num[::-2])\n",
    "print(num[::-3])\n"
   ]
  },
  {
   "cell_type": "code",
   "execution_count": 31,
   "id": "a86f654c",
   "metadata": {},
   "outputs": [
    {
     "name": "stdout",
     "output_type": "stream",
     "text": [
      "2\n",
      "['A', 'A', 'B', 'C', 'D', 'E']\n",
      "['E', 'D', 'C', 'B', 'A', 'A']\n"
     ]
    }
   ],
   "source": [
    "tuple = (\"A\", \"B\", \"C\", \"D\", \"E\",\"A\")\n",
    "print(tuple.count(\"A\"))\n",
    "list = [\"A\", \"B\", \"C\", \"D\", \"E\",\"A\"]\n",
    "list.sort()\n",
    "\n",
    "print(list)\n",
    "list.sort(reverse = True)\n",
    "print(list)\n"
   ]
  },
  {
   "cell_type": "code",
   "execution_count": 48,
   "id": "b865f0b0",
   "metadata": {},
   "outputs": [
    {
     "ename": "TypeError",
     "evalue": "'list' object is not callable",
     "output_type": "error",
     "traceback": [
      "\u001b[31m---------------------------------------------------------------------------\u001b[39m",
      "\u001b[31mTypeError\u001b[39m                                 Traceback (most recent call last)",
      "\u001b[36mCell\u001b[39m\u001b[36m \u001b[39m\u001b[32mIn[48]\u001b[39m\u001b[32m, line 8\u001b[39m\n\u001b[32m      1\u001b[39m mydict = {\n\u001b[32m      2\u001b[39m     \u001b[33m\"\u001b[39m\u001b[33mname\u001b[39m\u001b[33m\"\u001b[39m: \u001b[33m\"\u001b[39m\u001b[33mMuhammad Younus\u001b[39m\u001b[33m\"\u001b[39m,\n\u001b[32m      3\u001b[39m     \u001b[33m\"\u001b[39m\u001b[33mage\u001b[39m\u001b[33m\"\u001b[39m : \u001b[32m34\u001b[39m,\n\u001b[32m      4\u001b[39m     \u001b[33m\"\u001b[39m\u001b[33mClass\u001b[39m\u001b[33m\"\u001b[39m: \u001b[33m\"\u001b[39m\u001b[33mSE\u001b[39m\u001b[33m\"\u001b[39m,\n\u001b[32m      5\u001b[39m     \u001b[33m\"\u001b[39m\u001b[33mroll\u001b[39m\u001b[33m\"\u001b[39m: \u001b[32m10\u001b[39m\n\u001b[32m      6\u001b[39m }\n\u001b[32m----> \u001b[39m\u001b[32m8\u001b[39m \u001b[38;5;28mprint\u001b[39m(\u001b[38;5;28;43mlist\u001b[39;49m\u001b[43m(\u001b[49m\u001b[43mmydict\u001b[49m\u001b[43m)\u001b[49m)          \u001b[38;5;66;03m# ['name', 'age', 'Class', 'roll']\u001b[39;00m\n\u001b[32m      9\u001b[39m \u001b[38;5;28mprint\u001b[39m(\u001b[38;5;28mlist\u001b[39m(mydict.values())) \u001b[38;5;66;03m# ['Muhammad Younus', 34, 'SE', 10]\u001b[39;00m\n\u001b[32m     10\u001b[39m \u001b[38;5;28mprint\u001b[39m(\u001b[38;5;28mlist\u001b[39m(mydict.items()))  \u001b[38;5;66;03m# [('name', 'Muhammad Younus'), ('age', 34), ('Class', 'SE'), ('roll', 10)]\u001b[39;00m\n",
      "\u001b[31mTypeError\u001b[39m: 'list' object is not callable"
     ]
    }
   ],
   "source": [
    "mydict = {\n",
    "    \"name\": \"Muhammad Younus\",\n",
    "    \"age\" : 34,\n",
    "    \"Class\": \"SE\",\n",
    "    \"roll\": 10\n",
    "}\n",
    "\n",
    "print(list(mydict))          # ['name', 'age', 'Class', 'roll']\n",
    "print(list(mydict.values())) # ['Muhammad Younus', 34, 'SE', 10]\n",
    "print(list(mydict.items()))  # [('name', 'Muhammad Younus'), ('age', 34), ('Class', 'SE'), ('roll', 10)]\n"
   ]
  }
 ],
 "metadata": {
  "kernelspec": {
   "display_name": "Python 3",
   "language": "python",
   "name": "python3"
  },
  "language_info": {
   "codemirror_mode": {
    "name": "ipython",
    "version": 3
   },
   "file_extension": ".py",
   "mimetype": "text/x-python",
   "name": "python",
   "nbconvert_exporter": "python",
   "pygments_lexer": "ipython3",
   "version": "3.13.7"
  }
 },
 "nbformat": 4,
 "nbformat_minor": 5
}
