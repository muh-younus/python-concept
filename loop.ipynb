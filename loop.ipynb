{
 "cells": [
  {
   "cell_type": "code",
   "execution_count": 4,
   "id": "bcde8781",
   "metadata": {},
   "outputs": [
    {
     "name": "stdout",
     "output_type": "stream",
     "text": [
      "100\n",
      "99\n",
      "98\n",
      "97\n",
      "96\n",
      "95\n",
      "94\n",
      "93\n",
      "92\n",
      "91\n",
      "90\n",
      "89\n",
      "88\n",
      "87\n",
      "86\n",
      "85\n",
      "84\n",
      "83\n",
      "82\n",
      "81\n",
      "80\n",
      "79\n",
      "78\n",
      "77\n",
      "76\n",
      "75\n",
      "74\n",
      "73\n",
      "72\n",
      "71\n",
      "70\n",
      "69\n",
      "68\n",
      "67\n",
      "66\n",
      "65\n",
      "64\n",
      "63\n",
      "62\n",
      "61\n",
      "60\n",
      "59\n",
      "58\n",
      "57\n",
      "56\n",
      "55\n",
      "54\n",
      "53\n",
      "52\n",
      "51\n",
      "50\n",
      "49\n",
      "48\n",
      "47\n",
      "46\n",
      "45\n",
      "44\n",
      "43\n",
      "42\n",
      "41\n",
      "40\n",
      "39\n",
      "38\n",
      "37\n",
      "36\n",
      "35\n",
      "34\n",
      "33\n",
      "32\n",
      "31\n",
      "30\n",
      "29\n",
      "28\n",
      "27\n",
      "26\n",
      "25\n",
      "24\n",
      "23\n",
      "22\n",
      "21\n",
      "20\n",
      "19\n",
      "18\n",
      "17\n",
      "16\n",
      "15\n",
      "14\n",
      "13\n",
      "12\n",
      "11\n",
      "10\n",
      "9\n",
      "8\n",
      "7\n",
      "6\n",
      "5\n",
      "4\n",
      "3\n",
      "2\n",
      "1\n",
      "0\n"
     ]
    }
   ],
   "source": [
    "count = 100\n",
    "while count >=1:\n",
    "    print(count)\n",
    "    count -=1\n",
    "print(count)   "
   ]
  },
  {
   "cell_type": "code",
   "execution_count": 6,
   "id": "e4560bf9",
   "metadata": {},
   "outputs": [
    {
     "name": "stdout",
     "output_type": "stream",
     "text": [
      "5\n",
      "10\n",
      "15\n",
      "20\n",
      "25\n",
      "30\n",
      "35\n",
      "40\n",
      "45\n",
      "50\n"
     ]
    }
   ],
   "source": [
    "n = 5\n",
    "i =1\n",
    "while i <= 10:\n",
    "    print(n * i)\n",
    "    i += 1"
   ]
  },
  {
   "cell_type": "code",
   "execution_count": 10,
   "id": "2405c997",
   "metadata": {},
   "outputs": [
    {
     "name": "stdout",
     "output_type": "stream",
     "text": [
      "11\n",
      "22\n",
      "44\n",
      "33\n",
      "55\n",
      "77\n",
      "88\n",
      "99\n"
     ]
    }
   ],
   "source": [
    "list = [11,22,44,33,55,77,88,99]\n",
    "i = 0\n",
    "while i < len(list):\n",
    "    print(list[i])\n",
    "    i +=1"
   ]
  },
  {
   "cell_type": "code",
   "execution_count": null,
   "id": "949ef085",
   "metadata": {},
   "outputs": [
    {
     "name": "stdout",
     "output_type": "stream",
     "text": [
      "3\n",
      "9\n",
      "not found\n",
      "not found\n",
      "not found\n",
      "not found\n",
      "not found\n",
      "found at index 5\n"
     ]
    }
   ],
   "source": [
    "#Searching for a number x in this tuple using loop\n",
    "tuple1 = (11,22,33,44,55,66,77,88,99)\n",
    "x = 66\n",
    "\n",
    "print(tuple1.index(44))\n",
    "print(len(tuple1))\n",
    "i = 0 \n",
    "\n",
    "while i < len(tuple1):\n",
    "    if tuple1[i] ==x:\n",
    "        print(\"found at index\", i)\n",
    "        break\n",
    "    else:\n",
    "       print(\"not found\")\n",
    "    i +=1\n",
    "\n"
   ]
  },
  {
   "cell_type": "code",
   "execution_count": 4,
   "id": "e70f37da",
   "metadata": {},
   "outputs": [
    {
     "name": "stdout",
     "output_type": "stream",
     "text": [
      "64\n",
      "4\n",
      "36\n",
      "100\n",
      "16\n"
     ]
    }
   ],
   "source": [
    "list = {1,4,9,16,25,36,49,64,81,100}\n",
    "for num in list:\n",
    "    if(num%2 != 0 ):\n",
    "         continue\n",
    "    print(num)\n",
    "\n",
    "   "
   ]
  },
  {
   "cell_type": "code",
   "execution_count": 10,
   "id": "0b0426f0",
   "metadata": {},
   "outputs": [
    {
     "name": "stdout",
     "output_type": "stream",
     "text": [
      "The value is found 16\n"
     ]
    }
   ],
   "source": [
    "tuple = (1,4,9,16,25,36,49,64,81,100)\n",
    "x = 16\n",
    "\n",
    "for value in tuple:\n",
    "    if(value == x):\n",
    "        print(\"The value is found\",value)\n",
    "        break\n",
    "else:\n",
    "    print(\"not found\")"
   ]
  },
  {
   "cell_type": "code",
   "execution_count": 16,
   "id": "301ffb73",
   "metadata": {},
   "outputs": [
    {
     "name": "stdout",
     "output_type": "stream",
     "text": [
      "100\n",
      "99\n",
      "98\n",
      "97\n",
      "96\n",
      "95\n",
      "94\n",
      "93\n",
      "92\n",
      "91\n",
      "90\n",
      "89\n",
      "88\n",
      "87\n",
      "86\n",
      "85\n",
      "84\n",
      "83\n",
      "82\n",
      "81\n",
      "80\n",
      "79\n",
      "78\n",
      "77\n",
      "76\n",
      "75\n",
      "74\n",
      "73\n",
      "72\n",
      "71\n",
      "70\n",
      "69\n",
      "68\n",
      "67\n",
      "66\n",
      "65\n",
      "64\n",
      "63\n",
      "62\n",
      "61\n",
      "60\n",
      "59\n",
      "58\n",
      "57\n",
      "56\n",
      "55\n",
      "54\n",
      "53\n",
      "52\n",
      "51\n",
      "50\n",
      "49\n",
      "48\n",
      "47\n",
      "46\n",
      "45\n",
      "44\n",
      "43\n",
      "42\n",
      "41\n",
      "40\n",
      "39\n",
      "38\n",
      "37\n",
      "36\n",
      "35\n",
      "34\n",
      "33\n",
      "32\n",
      "31\n",
      "30\n",
      "29\n",
      "28\n",
      "27\n",
      "26\n",
      "25\n",
      "24\n",
      "23\n",
      "22\n",
      "21\n",
      "20\n",
      "19\n",
      "18\n",
      "17\n",
      "16\n",
      "15\n",
      "14\n",
      "13\n",
      "12\n",
      "11\n",
      "10\n",
      "9\n",
      "8\n",
      "7\n",
      "6\n",
      "5\n",
      "4\n",
      "3\n",
      "2\n",
      "1\n"
     ]
    }
   ],
   "source": [
    "value = range(100,0,-1)\n",
    "for item in value:\n",
    "    print(item)"
   ]
  },
  {
   "cell_type": "code",
   "execution_count": 25,
   "id": "55c59d79",
   "metadata": {},
   "outputs": [
    {
     "name": "stdout",
     "output_type": "stream",
     "text": [
      "8 x 1 = 7\n",
      "8 x 2 = 14\n",
      "8 x 3 = 21\n",
      "8 x 4 = 28\n",
      "8 x 5 = 35\n",
      "8 x 6 = 42\n",
      "8 x 7 = 49\n",
      "8 x 8 = 56\n",
      "8 x 9 = 63\n",
      "8 x 10 = 70\n"
     ]
    }
   ],
   "source": [
    "table = range(1,11)\n",
    "digit = 8\n",
    "for v in table:\n",
    "    print(digit,\"x\",v, \"=\",7*v)"
   ]
  },
  {
   "cell_type": "code",
   "execution_count": null,
   "id": "bcddda6e",
   "metadata": {},
   "outputs": [
    {
     "name": "stdout",
     "output_type": "stream",
     "text": [
      "sum is 13\n",
      "End\n"
     ]
    }
   ],
   "source": [
    "n = 12\n",
    "i = 1\n",
    "while i < 10:\n",
    "    print(\"sum is\", (12 + i))\n",
    "    break\n",
    "\n",
    "else:\n",
    "    print(\"End\")"
   ]
  },
  {
   "cell_type": "code",
   "execution_count": 27,
   "id": "f052869d",
   "metadata": {},
   "outputs": [
    {
     "name": "stdout",
     "output_type": "stream",
     "text": [
      "20\n"
     ]
    }
   ],
   "source": [
    "n = 5\n",
    "tuple = (4,3,2,1)\n",
    "for value in tuple:\n",
    "    print(n*value)\n",
    "    break\n",
    "else:\n",
    "    print(\"End\")"
   ]
  },
  {
   "cell_type": "code",
   "execution_count": 45,
   "id": "fcb97e90",
   "metadata": {},
   "outputs": [
    {
     "name": "stdout",
     "output_type": "stream",
     "text": [
      "['Ali', 'cucamber', 'Zia', 23, True, 'New Item']\n"
     ]
    },
    {
     "data": {
      "text/plain": [
       "6"
      ]
     },
     "execution_count": 45,
     "metadata": {},
     "output_type": "execute_result"
    }
   ],
   "source": [
    "list = [\"Ali\", \"Zia\", 23, 45.6, True]\n",
    "\n",
    "def find_len(param):\n",
    "     param.append(\"New Item\")\n",
    "     length = len(param)\n",
    "     param.insert(1,\"cucamber\")\n",
    "    \n",
    "     param.remove(45.6)\n",
    "     print(param,sep=\"\\n\")\n",
    "     return length\n",
    "   \n",
    "   \n",
    "find_len(list)"
   ]
  },
  {
   "cell_type": "code",
   "execution_count": 48,
   "id": "c4f72b38",
   "metadata": {},
   "outputs": [
    {
     "name": "stdout",
     "output_type": "stream",
     "text": [
      "Ali\n",
      "Zia\n",
      "23\n",
      "45.6\n",
      "True\n"
     ]
    }
   ],
   "source": [
    "list = [\"Ali\", \"Zia\", 23, 45.6, True]\n",
    "\n",
    "def find_len(param):\n",
    "    for item in param:\n",
    "        print(item)\n",
    "     \n",
    "   \n",
    "   \n",
    "find_len(list)"
   ]
  },
  {
   "cell_type": "code",
   "execution_count": null,
   "id": "4f2a1ea2",
   "metadata": {},
   "outputs": [
    {
     "name": "stdout",
     "output_type": "stream",
     "text": [
      "1\n",
      "2\n",
      "3\n",
      "4\n",
      "5\n"
     ]
    },
    {
     "data": {
      "text/plain": [
       "5"
      ]
     },
     "execution_count": 54,
     "metadata": {},
     "output_type": "execute_result"
    }
   ],
   "source": [
    "n = 5\n",
    "\n",
    "def find_factorial(fact):\n",
    "\n",
    "    i = 1\n",
    "    fact = 1\n",
    "    while i <= n:\n",
    "        \n",
    "        fact *= i\n",
    "        print(fact)\n",
    "        i +=1\n",
    "        \n",
    "    \n",
    "    return fact\n",
    "\n",
    "find_factorial(n)\n"
   ]
  }
 ],
 "metadata": {
  "kernelspec": {
   "display_name": "Python 3",
   "language": "python",
   "name": "python3"
  },
  "language_info": {
   "codemirror_mode": {
    "name": "ipython",
    "version": 3
   },
   "file_extension": ".py",
   "mimetype": "text/x-python",
   "name": "python",
   "nbconvert_exporter": "python",
   "pygments_lexer": "ipython3",
   "version": "3.13.7"
  }
 },
 "nbformat": 4,
 "nbformat_minor": 5
}
